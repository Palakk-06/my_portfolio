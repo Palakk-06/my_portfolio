{
 "cells": [
  {
   "cell_type": "code",
   "execution_count": 3,
   "id": "ae312948-4dca-4364-8adb-84046ce41b11",
   "metadata": {},
   "outputs": [],
   "source": [
    "import pandas as pd\n",
    "import numpy as np"
   ]
  },
  {
   "cell_type": "code",
   "execution_count": 5,
   "id": "5b6206e4-b7bb-475d-8f8d-3e256e3531c2",
   "metadata": {},
   "outputs": [],
   "source": [
    "df = pd.read_csv(r\"D:\\Dell\\Documents\\DA\\customer_purchase_complex.csv\")"
   ]
  },
  {
   "cell_type": "code",
   "execution_count": 4,
   "id": "b12b764a-969c-4da6-8969-0e8d1c403b56",
   "metadata": {},
   "outputs": [
    {
     "name": "stdout",
     "output_type": "stream",
     "text": [
      "<class 'pandas.core.frame.DataFrame'>\n",
      "RangeIndex: 50000 entries, 0 to 49999\n",
      "Data columns (total 22 columns):\n",
      " #   Column               Non-Null Count  Dtype  \n",
      "---  ------               --------------  -----  \n",
      " 0   order_id             50000 non-null  object \n",
      " 1   customer_id          50000 non-null  object \n",
      " 2   order_date           50000 non-null  object \n",
      " 3   product_category     50000 non-null  object \n",
      " 4   product_name         49950 non-null  object \n",
      " 5   quantity             50000 non-null  int64  \n",
      " 6   price_per_unit       50000 non-null  float64\n",
      " 7   payment_method       50000 non-null  object \n",
      " 8   delivery_status      50000 non-null  object \n",
      " 9   customer_state       50000 non-null  object \n",
      " 10  rating               45140 non-null  float64\n",
      " 11  total_price          50000 non-null  float64\n",
      " 12  customer_email       47478 non-null  object \n",
      " 13  shipping_address     50000 non-null  object \n",
      " 14  coupon_code          24919 non-null  object \n",
      " 15  referral_source      33405 non-null  object \n",
      " 16  product_rating       44884 non-null  float64\n",
      " 17  delivery_date        12517 non-null  object \n",
      " 18  return_reason        9289 non-null   object \n",
      " 19  customer_age         24847 non-null  float64\n",
      " 20  loyalty_score        50000 non-null  float64\n",
      " 21  product_description  50000 non-null  object \n",
      "dtypes: float64(6), int64(1), object(15)\n",
      "memory usage: 8.4+ MB\n"
     ]
    }
   ],
   "source": [
    "df.info()"
   ]
  },
  {
   "cell_type": "code",
   "execution_count": 5,
   "id": "210bfbc4-9ded-40d0-aeb3-f415f68b0101",
   "metadata": {},
   "outputs": [
    {
     "data": {
      "text/plain": [
       "return_reason          40711\n",
       "delivery_date          37483\n",
       "customer_age           25153\n",
       "coupon_code            25081\n",
       "referral_source        16595\n",
       "product_rating          5116\n",
       "rating                  4860\n",
       "customer_email          2522\n",
       "product_name              50\n",
       "quantity                   0\n",
       "order_id                   0\n",
       "product_category           0\n",
       "order_date                 0\n",
       "customer_id                0\n",
       "shipping_address           0\n",
       "total_price                0\n",
       "delivery_status            0\n",
       "customer_state             0\n",
       "payment_method             0\n",
       "price_per_unit             0\n",
       "loyalty_score              0\n",
       "product_description        0\n",
       "dtype: int64"
      ]
     },
     "execution_count": 5,
     "metadata": {},
     "output_type": "execute_result"
    }
   ],
   "source": [
    "df.isnull().sum().sort_values(ascending=False)"
   ]
  },
  {
   "cell_type": "code",
   "execution_count": 20,
   "id": "4b19fdb7-966f-48e5-a19d-d76b510bed5a",
   "metadata": {},
   "outputs": [],
   "source": [
    "# filling null values in product_name column\n",
    "df['product_name'] = df['product_name'].fillna('Unknown Product')"
   ]
  },
  {
   "cell_type": "code",
   "execution_count": 21,
   "id": "554941cf-1ff3-4f24-9e29-c9276b93be30",
   "metadata": {},
   "outputs": [],
   "source": [
    "# filling null values in customer_email column\n",
    "df['customer_email'] = df['customer_email'].fillna('no_email')"
   ]
  },
  {
   "cell_type": "code",
   "execution_count": 22,
   "id": "2693fe20-77fa-4027-9f28-87912466596d",
   "metadata": {},
   "outputs": [],
   "source": [
    "# filling null values in rating and product_rating column\n",
    "# Fill missing customer rating with the mean\n",
    "df['rating'] = df['rating'].fillna(df['rating'].mean())\n",
    "\n",
    "# Fill missing product rating with the mean\n",
    "df['product_rating'] = df['product_rating'].fillna(df['product_rating'].mean())\n"
   ]
  },
  {
   "cell_type": "code",
   "execution_count": 23,
   "id": "fdc6e4e4-3d8e-43d3-a8bf-490cb8f8722d",
   "metadata": {},
   "outputs": [],
   "source": [
    "# filling null values in referral_source column\n",
    "df['referral_source'] = df['referral_source'].fillna('Untracked')"
   ]
  },
  {
   "cell_type": "code",
   "execution_count": 24,
   "id": "03e11fb7-0f56-4904-88df-f5b9f046be42",
   "metadata": {},
   "outputs": [],
   "source": [
    "# filling null values in coupon_code column\n",
    "df['coupon_code'] = df['coupon_code'].fillna('NO_COUPON')"
   ]
  },
  {
   "cell_type": "code",
   "execution_count": 25,
   "id": "368a539f-7aa0-4675-9e4e-0c12c9726c49",
   "metadata": {},
   "outputs": [],
   "source": [
    "# filling null values in customer_age column\n",
    "df['customer_age'] = df['customer_age'].fillna(df['customer_age'].median())"
   ]
  },
  {
   "cell_type": "code",
   "execution_count": 26,
   "id": "f3038535-9e6a-4234-acdc-4da1967f7e36",
   "metadata": {},
   "outputs": [],
   "source": [
    "# delivery_date\n",
    "# Convert to datetime\n",
    "df['delivery_date'] = pd.to_datetime(df['delivery_date'])\n",
    "\n",
    "# Add a flag for missing deliveries\n",
    "df['delivery_missing'] = df['delivery_date'].isnull()"
   ]
  },
  {
   "cell_type": "code",
   "execution_count": 27,
   "id": "6a9e2c5c-1d7a-42e4-ac3b-6b92c4c60701",
   "metadata": {},
   "outputs": [],
   "source": [
    "# return_reason\n",
    "df['return_reason'] = df['return_reason'].fillna('Not Returned')"
   ]
  },
  {
   "cell_type": "code",
   "execution_count": 28,
   "id": "e77ad055-f295-4680-8467-83dbdaecf380",
   "metadata": {},
   "outputs": [
    {
     "data": {
      "text/plain": [
       "delivery_date          37483\n",
       "customer_id                0\n",
       "order_id                   0\n",
       "product_category           0\n",
       "product_name               0\n",
       "quantity                   0\n",
       "order_date                 0\n",
       "price_per_unit             0\n",
       "payment_method             0\n",
       "customer_state             0\n",
       "delivery_status            0\n",
       "total_price                0\n",
       "customer_email             0\n",
       "shipping_address           0\n",
       "rating                     0\n",
       "coupon_code                0\n",
       "referral_source            0\n",
       "product_rating             0\n",
       "return_reason              0\n",
       "customer_age               0\n",
       "loyalty_score              0\n",
       "product_description        0\n",
       "delivery_missing           0\n",
       "dtype: int64"
      ]
     },
     "execution_count": 28,
     "metadata": {},
     "output_type": "execute_result"
    }
   ],
   "source": [
    "df.isnull().sum().sort_values(ascending=False)"
   ]
  },
  {
   "cell_type": "code",
   "execution_count": 30,
   "id": "5a863659-04fd-48c3-8a98-1b1a58c99953",
   "metadata": {},
   "outputs": [],
   "source": [
    "# Convert 'order_date' to datetime\n",
    "df['order_date'] = pd.to_datetime(df['order_date'])"
   ]
  },
  {
   "cell_type": "code",
   "execution_count": 31,
   "id": "3e62d9f2-6376-4d4a-abd9-63a9ff0f2062",
   "metadata": {},
   "outputs": [
    {
     "name": "stdout",
     "output_type": "stream",
     "text": [
      "<class 'pandas.core.frame.DataFrame'>\n",
      "RangeIndex: 50000 entries, 0 to 49999\n",
      "Data columns (total 23 columns):\n",
      " #   Column               Non-Null Count  Dtype         \n",
      "---  ------               --------------  -----         \n",
      " 0   order_id             50000 non-null  object        \n",
      " 1   customer_id          50000 non-null  object        \n",
      " 2   order_date           50000 non-null  datetime64[ns]\n",
      " 3   product_category     50000 non-null  object        \n",
      " 4   product_name         50000 non-null  object        \n",
      " 5   quantity             50000 non-null  int64         \n",
      " 6   price_per_unit       50000 non-null  float64       \n",
      " 7   payment_method       50000 non-null  object        \n",
      " 8   delivery_status      50000 non-null  object        \n",
      " 9   customer_state       50000 non-null  object        \n",
      " 10  rating               50000 non-null  float64       \n",
      " 11  total_price          50000 non-null  float64       \n",
      " 12  customer_email       50000 non-null  object        \n",
      " 13  shipping_address     50000 non-null  object        \n",
      " 14  coupon_code          50000 non-null  object        \n",
      " 15  referral_source      50000 non-null  object        \n",
      " 16  product_rating       50000 non-null  float64       \n",
      " 17  delivery_date        12517 non-null  datetime64[ns]\n",
      " 18  return_reason        50000 non-null  object        \n",
      " 19  customer_age         50000 non-null  float64       \n",
      " 20  loyalty_score        50000 non-null  float64       \n",
      " 21  product_description  50000 non-null  object        \n",
      " 22  delivery_missing     50000 non-null  bool          \n",
      "dtypes: bool(1), datetime64[ns](2), float64(6), int64(1), object(13)\n",
      "memory usage: 8.4+ MB\n"
     ]
    }
   ],
   "source": [
    "df.info()"
   ]
  },
  {
   "cell_type": "code",
   "execution_count": 32,
   "id": "2be30ae9-b4f8-4ef4-8de9-168654d5abad",
   "metadata": {},
   "outputs": [
    {
     "data": {
      "text/plain": [
       "np.int64(0)"
      ]
     },
     "execution_count": 32,
     "metadata": {},
     "output_type": "execute_result"
    }
   ],
   "source": [
    "# checking duplicates\n",
    "df.duplicated().sum()"
   ]
  },
  {
   "cell_type": "code",
   "execution_count": 35,
   "id": "84cebf6c-ecc7-4903-8993-8572b57f8cd5",
   "metadata": {},
   "outputs": [],
   "source": [
    "# standardising column names\n",
    "df.columns = (\n",
    "    df.columns\n",
    "    .str.strip()  # remove leading/trailing spaces\n",
    "    .str.lower()  # convert to lowercase\n",
    "    .str.replace(' ', '_')  # replace spaces with underscores\n",
    ")\n"
   ]
  },
  {
   "cell_type": "code",
   "execution_count": 36,
   "id": "494af401-d884-482e-b03d-bf6f86537678",
   "metadata": {},
   "outputs": [
    {
     "name": "stdout",
     "output_type": "stream",
     "text": [
      "['order_id', 'customer_id', 'order_date', 'product_category', 'product_name', 'quantity', 'price_per_unit', 'payment_method', 'delivery_status', 'customer_state', 'rating', 'total_price', 'customer_email', 'shipping_address', 'coupon_code', 'referral_source', 'product_rating', 'delivery_date', 'return_reason', 'customer_age', 'loyalty_score', 'product_description', 'delivery_missing']\n"
     ]
    }
   ],
   "source": [
    "print(df.columns.tolist())"
   ]
  },
  {
   "cell_type": "code",
   "execution_count": 37,
   "id": "c9d7a56e-ed82-4528-b517-6ad61f0eb4c1",
   "metadata": {},
   "outputs": [],
   "source": [
    "# sequencing data according to order, customer, product and purchase\n",
    "df = df[\n",
    "    [\n",
    "        'order_id', 'order_date', 'delivery_date', 'delivery_status', 'delivery_missing',\n",
    "        'customer_id', 'customer_email', 'customer_state', 'customer_age', 'shipping_address', 'loyalty_score', 'referral_source',\n",
    "        'product_category', 'product_name', 'product_description', 'product_rating',\n",
    "        'quantity', 'price_per_unit', 'total_price', 'payment_method', 'coupon_code', 'rating', 'return_reason'\n",
    "    ]\n",
    "]"
   ]
  },
  {
   "cell_type": "code",
   "execution_count": 38,
   "id": "9afe4e23-8f58-4ef9-8bea-e3370c966115",
   "metadata": {},
   "outputs": [
    {
     "name": "stdout",
     "output_type": "stream",
     "text": [
      "['order_id', 'order_date', 'delivery_date', 'delivery_status', 'delivery_missing', 'customer_id', 'customer_email', 'customer_state', 'customer_age', 'shipping_address', 'loyalty_score', 'referral_source', 'product_category', 'product_name', 'product_description', 'product_rating', 'quantity', 'price_per_unit', 'total_price', 'payment_method', 'coupon_code', 'rating', 'return_reason']\n"
     ]
    }
   ],
   "source": [
    "print(df.columns.tolist())"
   ]
  },
  {
   "cell_type": "code",
   "execution_count": 39,
   "id": "b191a28e-080a-44fb-8816-d8473409e124",
   "metadata": {},
   "outputs": [
    {
     "data": {
      "text/plain": [
       "RangeIndex(start=0, stop=50000, step=1)"
      ]
     },
     "execution_count": 39,
     "metadata": {},
     "output_type": "execute_result"
    }
   ],
   "source": [
    "df.index"
   ]
  },
  {
   "cell_type": "code",
   "execution_count": null,
   "id": "38d53260-a08c-4a10-8e92-6dc88c38599d",
   "metadata": {},
   "outputs": [],
   "source": []
  }
 ],
 "metadata": {
  "kernelspec": {
   "display_name": "Python 3 (ipykernel)",
   "language": "python",
   "name": "python3"
  },
  "language_info": {
   "codemirror_mode": {
    "name": "ipython",
    "version": 3
   },
   "file_extension": ".py",
   "mimetype": "text/x-python",
   "name": "python",
   "nbconvert_exporter": "python",
   "pygments_lexer": "ipython3",
   "version": "3.13.2"
  }
 },
 "nbformat": 4,
 "nbformat_minor": 5
}
